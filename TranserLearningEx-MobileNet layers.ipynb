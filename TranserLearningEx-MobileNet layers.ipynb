{
 "cells": [
  {
   "cell_type": "markdown",
   "metadata": {
    "colab_type": "text",
    "id": "NaOUESZ_EXSr"
   },
   "source": [
    "# Transfer Learning Exercises\n",
    "\n",
    "This notebook contains several exercises to learn about transfer learning.  Run the cells below and answer the questions after each exercise."
   ]
  },
  {
   "cell_type": "code",
   "execution_count": null,
   "metadata": {
    "ExecuteTime": {
     "end_time": "2019-01-03T20:20:07.171839Z",
     "start_time": "2019-01-03T20:20:03.421020Z"
    },
    "colab": {},
    "colab_type": "code",
    "id": "yg7Cz8vjEXSw"
   },
   "outputs": [],
   "source": [
    "%tensorflow_version 1.x\n",
    "\n",
    "import numpy as np\n",
    "import matplotlib.pyplot as plt \n",
    "import keras\n",
    "from keras import backend as K\n",
    "from keras.applications.mobilenet import MobileNet, preprocess_input\n",
    "from keras.datasets import cifar10\n",
    "from keras.models import Sequential\n",
    "from keras.layers import Dense, Dropout, Flatten\n",
    "from keras.layers import Conv2D, MaxPooling2D, GlobalAveragePooling2D, UpSampling2D\n",
    "from keras import backend as K\n",
    "from scipy.ndimage import zoom"
   ]
  },
  {
   "cell_type": "markdown",
   "metadata": {
    "colab_type": "text",
    "id": "K8zVsUEQEXS9"
   },
   "source": [
    "# Load Data\n",
    "\n",
    "We'll be using the CIFAR10 (https://www.cs.toronto.edu/~kriz/cifar.html), which contains some natural images tagged in 10 different categories (e.g. cars, dogs, birds etc.)"
   ]
  },
  {
   "cell_type": "code",
   "execution_count": null,
   "metadata": {
    "ExecuteTime": {
     "end_time": "2019-01-03T20:20:07.179110Z",
     "start_time": "2019-01-03T20:20:07.174531Z"
    },
    "colab": {},
    "colab_type": "code",
    "id": "F2_0ac64EXS_"
   },
   "outputs": [],
   "source": [
    "batch_size = 100\n",
    "num_classes = 10\n",
    "epochs = 20\n",
    "\n",
    "# input image dimensions\n",
    "img_rows, img_cols, img_channels = 32, 32, 3"
   ]
  },
  {
   "cell_type": "code",
   "execution_count": 3,
   "metadata": {
    "ExecuteTime": {
     "end_time": "2019-01-03T20:20:08.187806Z",
     "start_time": "2019-01-03T20:20:07.182844Z"
    },
    "colab": {
     "base_uri": "https://localhost:8080/",
     "height": 121
    },
    "colab_type": "code",
    "executionInfo": {
     "elapsed": 7715,
     "status": "ok",
     "timestamp": 1572731017084,
     "user": {
      "displayName": "Brian",
      "photoUrl": "https://lh4.googleusercontent.com/-y5a64nLFbc4/AAAAAAAAAAI/AAAAAAAAAXs/4RRMVlUcGtY/s64/photo.jpg",
      "userId": "11680685692091329827"
     },
     "user_tz": 240
    },
    "id": "0aceUjoEEXTG",
    "outputId": "1176d366-7e2f-496b-b7fb-bdcd6cff6fbb"
   },
   "outputs": [
    {
     "name": "stdout",
     "output_type": "stream",
     "text": [
      "Downloading data from https://www.cs.toronto.edu/~kriz/cifar-10-python.tar.gz\n",
      "170500096/170498071 [==============================] - 3s 0us/step\n",
      "x_train shape: (1000, 32, 32, 3)\n",
      "y_train shape: (1000, 10)\n",
      "1000 train samples\n",
      "1000 test samples\n"
     ]
    }
   ],
   "source": [
    "(x_train, y_train), (x_test, y_test) = cifar10.load_data()\n",
    "\n",
    "x_train = x_train.astype('float32')\n",
    "x_test = x_test.astype('float32')\n",
    "\n",
    "# Convert class vectors to one-hot encoding\n",
    "y_train = keras.utils.to_categorical(y_train, num_classes)\n",
    "y_test = keras.utils.to_categorical(y_test, num_classes)\n",
    "\n",
    "# Depending on the implementation, the underlying libraries might want the image \n",
    "# dimensions in different orders, check for it and reshape\n",
    "if K.image_data_format() == 'channels_first':\n",
    "    x_train = x_train.reshape(x_train.shape[0], img_channels, img_rows, img_cols)\n",
    "    x_test = x_test.reshape(x_test.shape[0], img_channels, img_rows, img_cols)\n",
    "    input_shape = (1, img_rows, img_cols)\n",
    "else:\n",
    "    x_train = x_train.reshape(x_train.shape[0], img_rows, img_cols, img_channels)\n",
    "    x_test = x_test.reshape(x_test.shape[0], img_rows, img_cols, img_channels)\n",
    "    input_shape = (img_rows, img_cols, img_channels)\n",
    "\n",
    "# For this demonstration, select 1k random samples for training and test\n",
    "index = np.arange(x_train.shape[0])\n",
    "np.random.seed(0)\n",
    "np.random.shuffle(index)\n",
    "index = index[:1000]\n",
    "x_train, y_train = x_train[index], y_train[index]\n",
    "\n",
    "index = np.arange(x_test.shape[0])\n",
    "np.random.seed(0)\n",
    "np.random.shuffle(index)\n",
    "index = index[:1000]\n",
    "x_test, y_test = x_test[index], y_test[index]\n",
    "\n",
    "print('x_train shape:', x_train.shape)\n",
    "print('y_train shape:', y_train.shape)\n",
    "print(x_train.shape[0], 'train samples')\n",
    "print(x_test.shape[0], 'test samples')"
   ]
  },
  {
   "cell_type": "markdown",
   "metadata": {
    "colab_type": "text",
    "id": "GYaly-bmEXTN"
   },
   "source": [
    "# Exercise 1: CNN From Scratch\n",
    "\n",
    "Let's build a CNN from scratch using a very small subset of CIFAR10 training data (1000 data points)."
   ]
  },
  {
   "cell_type": "code",
   "execution_count": null,
   "metadata": {
    "ExecuteTime": {
     "end_time": "2019-01-03T20:20:08.215177Z",
     "start_time": "2019-01-03T20:20:08.192489Z"
    },
    "colab": {},
    "colab_type": "code",
    "id": "WTY3PzUDEXTP"
   },
   "outputs": [],
   "source": [
    "#normalize/standardize image 要除以255\n",
    "x_scaled_train = x_train / 255.\n",
    "x_scaled_test = x_test / 255."
   ]
  },
  {
   "cell_type": "code",
   "execution_count": 5,
   "metadata": {
    "ExecuteTime": {
     "end_time": "2019-01-03T20:20:08.431564Z",
     "start_time": "2019-01-03T20:20:08.217996Z"
    },
    "colab": {
     "base_uri": "https://localhost:8080/",
     "height": 593
    },
    "colab_type": "code",
    "executionInfo": {
     "elapsed": 7852,
     "status": "ok",
     "timestamp": 1572731017234,
     "user": {
      "displayName": "Brian",
      "photoUrl": "https://lh4.googleusercontent.com/-y5a64nLFbc4/AAAAAAAAAAI/AAAAAAAAAXs/4RRMVlUcGtY/s64/photo.jpg",
      "userId": "11680685692091329827"
     },
     "user_tz": 240
    },
    "id": "OpKpOqvhEXTV",
    "outputId": "7c4a7e29-a8f8-44ca-809d-d3ed41c2f1f0"
   },
   "outputs": [
    {
     "name": "stdout",
     "output_type": "stream",
     "text": [
      "WARNING:tensorflow:From /usr/local/lib/python3.6/dist-packages/keras/backend/tensorflow_backend.py:66: The name tf.get_default_graph is deprecated. Please use tf.compat.v1.get_default_graph instead.\n",
      "\n",
      "WARNING:tensorflow:From /usr/local/lib/python3.6/dist-packages/keras/backend/tensorflow_backend.py:541: The name tf.placeholder is deprecated. Please use tf.compat.v1.placeholder instead.\n",
      "\n",
      "WARNING:tensorflow:From /usr/local/lib/python3.6/dist-packages/keras/backend/tensorflow_backend.py:4432: The name tf.random_uniform is deprecated. Please use tf.random.uniform instead.\n",
      "\n",
      "WARNING:tensorflow:From /usr/local/lib/python3.6/dist-packages/keras/backend/tensorflow_backend.py:4267: The name tf.nn.max_pool is deprecated. Please use tf.nn.max_pool2d instead.\n",
      "\n",
      "WARNING:tensorflow:From /usr/local/lib/python3.6/dist-packages/keras/optimizers.py:793: The name tf.train.Optimizer is deprecated. Please use tf.compat.v1.train.Optimizer instead.\n",
      "\n",
      "WARNING:tensorflow:From /usr/local/lib/python3.6/dist-packages/keras/backend/tensorflow_backend.py:3576: The name tf.log is deprecated. Please use tf.math.log instead.\n",
      "\n",
      "Model: \"sequential_1\"\n",
      "_________________________________________________________________\n",
      "Layer (type)                 Output Shape              Param #   \n",
      "=================================================================\n",
      "conv2d_1 (Conv2D)            (None, 30, 30, 16)        448       \n",
      "_________________________________________________________________\n",
      "conv2d_2 (Conv2D)            (None, 14, 14, 16)        2320      \n",
      "_________________________________________________________________\n",
      "max_pooling2d_1 (MaxPooling2 (None, 7, 7, 16)          0         \n",
      "_________________________________________________________________\n",
      "flatten_1 (Flatten)          (None, 784)               0         \n",
      "_________________________________________________________________\n",
      "dense_1 (Dense)              (None, 64)                50240     \n",
      "_________________________________________________________________\n",
      "dense_2 (Dense)              (None, 10)                650       \n",
      "=================================================================\n",
      "Total params: 53,658\n",
      "Trainable params: 53,658\n",
      "Non-trainable params: 0\n",
      "_________________________________________________________________\n"
     ]
    }
   ],
   "source": [
    "model1 = Sequential()\n",
    "model1.add(Conv2D(16, kernel_size=(3, 3),\n",
    "                 strides=1, padding='valid',\n",
    "                 activation='relu',\n",
    "                 input_shape=input_shape))\n",
    "model1.add(Conv2D(16, kernel_size=(3, 3),\n",
    "                 strides=2, padding='valid',\n",
    "                 activation='relu'))\n",
    "model1.add(MaxPooling2D(pool_size=(2, 2)))\n",
    "model1.add(Flatten())\n",
    "model1.add(Dense(64, activation='relu'))\n",
    "model1.add(Dense(num_classes, activation='softmax'))\n",
    "\n",
    "model1.compile(loss='categorical_crossentropy',\n",
    "              optimizer=keras.optimizers.Adam(lr=0.01),\n",
    "              metrics=['accuracy'])\n",
    "model1.summary()"
   ]
  },
  {
   "cell_type": "code",
   "execution_count": 6,
   "metadata": {
    "ExecuteTime": {
     "end_time": "2019-01-03T20:20:21.707860Z",
     "start_time": "2019-01-03T20:20:08.435091Z"
    },
    "colab": {
     "base_uri": "https://localhost:8080/",
     "height": 384
    },
    "colab_type": "code",
    "executionInfo": {
     "elapsed": 17580,
     "status": "ok",
     "timestamp": 1572731026973,
     "user": {
      "displayName": "Brian",
      "photoUrl": "https://lh4.googleusercontent.com/-y5a64nLFbc4/AAAAAAAAAAI/AAAAAAAAAXs/4RRMVlUcGtY/s64/photo.jpg",
      "userId": "11680685692091329827"
     },
     "user_tz": 240
    },
    "id": "0Be19RjBEXTa",
    "outputId": "7fa57043-d04a-4d82-a4f8-78b7cc8ca625"
   },
   "outputs": [
    {
     "name": "stdout",
     "output_type": "stream",
     "text": [
      "WARNING:tensorflow:From /usr/local/lib/python3.6/dist-packages/tensorflow_core/python/ops/math_grad.py:1424: where (from tensorflow.python.ops.array_ops) is deprecated and will be removed in a future version.\n",
      "Instructions for updating:\n",
      "Use tf.where in 2.0, which has the same broadcast rule as np.where\n",
      "WARNING:tensorflow:From /usr/local/lib/python3.6/dist-packages/keras/backend/tensorflow_backend.py:1033: The name tf.assign_add is deprecated. Please use tf.compat.v1.assign_add instead.\n",
      "\n",
      "WARNING:tensorflow:From /usr/local/lib/python3.6/dist-packages/keras/backend/tensorflow_backend.py:1020: The name tf.assign is deprecated. Please use tf.compat.v1.assign instead.\n",
      "\n",
      "WARNING:tensorflow:From /usr/local/lib/python3.6/dist-packages/keras/backend/tensorflow_backend.py:3005: The name tf.Session is deprecated. Please use tf.compat.v1.Session instead.\n",
      "\n",
      "WARNING:tensorflow:From /usr/local/lib/python3.6/dist-packages/keras/backend/tensorflow_backend.py:190: The name tf.get_default_session is deprecated. Please use tf.compat.v1.get_default_session instead.\n",
      "\n",
      "WARNING:tensorflow:From /usr/local/lib/python3.6/dist-packages/keras/backend/tensorflow_backend.py:197: The name tf.ConfigProto is deprecated. Please use tf.compat.v1.ConfigProto instead.\n",
      "\n",
      "WARNING:tensorflow:From /usr/local/lib/python3.6/dist-packages/keras/backend/tensorflow_backend.py:207: The name tf.global_variables is deprecated. Please use tf.compat.v1.global_variables instead.\n",
      "\n",
      "WARNING:tensorflow:From /usr/local/lib/python3.6/dist-packages/keras/backend/tensorflow_backend.py:216: The name tf.is_variable_initialized is deprecated. Please use tf.compat.v1.is_variable_initialized instead.\n",
      "\n",
      "WARNING:tensorflow:From /usr/local/lib/python3.6/dist-packages/keras/backend/tensorflow_backend.py:223: The name tf.variables_initializer is deprecated. Please use tf.compat.v1.variables_initializer instead.\n",
      "\n"
     ]
    },
    {
     "data": {
      "text/plain": [
       "<keras.callbacks.History at 0x7f0136a8b780>"
      ]
     },
     "execution_count": 6,
     "metadata": {
      "tags": []
     },
     "output_type": "execute_result"
    }
   ],
   "source": [
    "model1.fit(x_scaled_train, y_train,\n",
    "          batch_size=batch_size,\n",
    "          epochs=epochs,\n",
    "          verbose=0,\n",
    "          callbacks=[])"
   ]
  },
  {
   "cell_type": "code",
   "execution_count": 7,
   "metadata": {
    "ExecuteTime": {
     "end_time": "2019-01-03T20:20:22.320318Z",
     "start_time": "2019-01-03T20:20:21.710982Z"
    },
    "colab": {
     "base_uri": "https://localhost:8080/",
     "height": 86
    },
    "colab_type": "code",
    "executionInfo": {
     "elapsed": 17888,
     "status": "ok",
     "timestamp": 1572731027291,
     "user": {
      "displayName": "Brian",
      "photoUrl": "https://lh4.googleusercontent.com/-y5a64nLFbc4/AAAAAAAAAAI/AAAAAAAAAXs/4RRMVlUcGtY/s64/photo.jpg",
      "userId": "11680685692091329827"
     },
     "user_tz": 240
    },
    "id": "UXlFtHPcEXTg",
    "outputId": "95c0c6c1-be39-4da6-8632-ba64080fda37"
   },
   "outputs": [
    {
     "name": "stdout",
     "output_type": "stream",
     "text": [
      "Train loss: 1.0551130084991456\n",
      "Train accuracy: 0.624\n",
      "Test loss: 2.196615676879883\n",
      "Test accuracy: 0.324\n"
     ]
    }
   ],
   "source": [
    "train_score = model1.evaluate(x_scaled_train , y_train, verbose=0)\n",
    "test_score = model1.evaluate(x_scaled_test, y_test, verbose=0)\n",
    "\n",
    "print('Train loss:', train_score[0])\n",
    "print('Train accuracy:', train_score[1])\n",
    "print('Test loss:', test_score[0])\n",
    "print('Test accuracy:', test_score[1])"
   ]
  },
  {
   "cell_type": "markdown",
   "metadata": {
    "colab_type": "text",
    "id": "1brAJ49MEXTo"
   },
   "source": [
    "## Questions\n",
    "\n",
    "1. Why is there such a big difference between teh training and testing accuracy?\n",
    "2. Why is the performance so poor?"
   ]
  },
  {
   "cell_type": "markdown",
   "metadata": {
    "ExecuteTime": {
     "end_time": "2019-01-01T14:56:49.432083Z",
     "start_time": "2019-01-01T14:56:49.428157Z"
    },
    "colab_type": "text",
    "id": "JUi2aO9_EXTs"
   },
   "source": [
    "# Exercise 2: Using Pre-Processed Features\n",
    "\n",
    "Let's load a pre-trained MobileNet network (efficient, small network, only 4M parameters but with decent performance on ImageNet) and extract features from our training and testsets.  Notice we add the `include_top=False` parameter because we don't want to use the included ImageNet classifier."
   ]
  },
  {
   "cell_type": "code",
   "execution_count": 8,
   "metadata": {
    "ExecuteTime": {
     "end_time": "2019-01-03T20:20:22.548146Z",
     "start_time": "2019-01-03T20:20:22.323572Z"
    },
    "colab": {
     "base_uri": "https://localhost:8080/",
     "height": 320
    },
    "colab_type": "code",
    "executionInfo": {
     "elapsed": 18074,
     "status": "ok",
     "timestamp": 1572731027486,
     "user": {
      "displayName": "Brian",
      "photoUrl": "https://lh4.googleusercontent.com/-y5a64nLFbc4/AAAAAAAAAAI/AAAAAAAAAXs/4RRMVlUcGtY/s64/photo.jpg",
      "userId": "11680685692091329827"
     },
     "user_tz": 240
    },
    "id": "OlL1p5upEXTu",
    "outputId": "974e16bf-6998-479c-c9d4-c40fb94cbd79"
   },
   "outputs": [
    {
     "data": {
      "image/png": "[encoded data removed]",
      "text/plain": [
       "<Figure size 360x360 with 1 Axes>"
      ]
     },
     "metadata": {
      "tags": []
     },
     "output_type": "display_data"
    }
   ],
   "source": [
    "# Plot a sample image (so we can make sure our transformations are correct)\n",
    "plt.figure(figsize=(5, 5))\n",
    "plt.imshow(x_train[0].astype(int))\n",
    "plt.show()"
   ]
  },
  {
   "cell_type": "code",
   "execution_count": 9,
   "metadata": {
    "ExecuteTime": {
     "end_time": "2019-01-03T20:20:22.616628Z",
     "start_time": "2019-01-03T20:20:22.551041Z"
    },
    "colab": {
     "base_uri": "https://localhost:8080/",
     "height": 34
    },
    "colab_type": "code",
    "executionInfo": {
     "elapsed": 18067,
     "status": "ok",
     "timestamp": 1572731027488,
     "user": {
      "displayName": "Brian",
      "photoUrl": "https://lh4.googleusercontent.com/-y5a64nLFbc4/AAAAAAAAAAI/AAAAAAAAAXs/4RRMVlUcGtY/s64/photo.jpg",
      "userId": "11680685692091329827"
     },
     "user_tz": 240
    },
    "id": "DQ_V-az3EXT1",
    "outputId": "15fa5b06-966a-4d6f-8def-7f27419d846a"
   },
   "outputs": [
    {
     "data": {
      "text/plain": [
       "((1000, 32, 32, 3), (1000, 32, 32, 3))"
      ]
     },
     "execution_count": 9,
     "metadata": {
      "tags": []
     },
     "output_type": "execute_result"
    }
   ],
   "source": [
    "# Some pre-proessing of the image for MobileNet (scaling and shifing to be between [-1, 1])\n",
    "x_preprocess_train = preprocess_input(x_train.copy())\n",
    "x_preprocess_test = preprocess_input(x_test.copy())\n",
    "x_preprocess_train.shape, x_preprocess_test.shape"
   ]
  },
  {
   "cell_type": "code",
   "execution_count": 10,
   "metadata": {
    "ExecuteTime": {
     "end_time": "2019-01-03T20:20:22.828179Z",
     "start_time": "2019-01-03T20:20:22.619613Z"
    },
    "colab": {
     "base_uri": "https://localhost:8080/",
     "height": 320
    },
    "colab_type": "code",
    "executionInfo": {
     "elapsed": 18443,
     "status": "ok",
     "timestamp": 1572731027875,
     "user": {
      "displayName": "Brian",
      "photoUrl": "https://lh4.googleusercontent.com/-y5a64nLFbc4/AAAAAAAAAAI/AAAAAAAAAXs/4RRMVlUcGtY/s64/photo.jpg",
      "userId": "11680685692091329827"
     },
     "user_tz": 240
    },
    "id": "iHqUq6WXEXUA",
    "outputId": "0ea90aca-ecb1-4361-f46e-158d76284f34"
   },
   "outputs": [
    {
     "data": {
      "image/png": "[encoded data removed]",
      "text/plain": [
       "<Figure size 360x360 with 1 Axes>"
      ]
     },
     "metadata": {
      "tags": []
     },
     "output_type": "display_data"
    }
   ],
   "source": [
    "# Plot a sample image (need to shift/scale to dispaly colours properly)\n",
    "plt.figure(figsize=(5, 5))\n",
    "plt.imshow((x_preprocess_train[0] + 1.0) * 127.5 / 255)\n",
    "plt.show()"
   ]
  },
  {
   "cell_type": "code",
   "execution_count": 11,
   "metadata": {
    "ExecuteTime": {
     "end_time": "2019-01-03T20:21:58.455166Z",
     "start_time": "2019-01-03T20:20:22.831766Z"
    },
    "colab": {
     "base_uri": "https://localhost:8080/",
     "height": 243
    },
    "colab_type": "code",
    "executionInfo": {
     "elapsed": 116499,
     "status": "ok",
     "timestamp": 1572731125940,
     "user": {
      "displayName": "Brian",
      "photoUrl": "https://lh4.googleusercontent.com/-y5a64nLFbc4/AAAAAAAAAAI/AAAAAAAAAXs/4RRMVlUcGtY/s64/photo.jpg",
      "userId": "11680685692091329827"
     },
     "user_tz": 240
    },
    "id": "2E0BP0MUEXUE",
    "outputId": "c859b5c7-01eb-43eb-89f4-b8b691d0efc8"
   },
   "outputs": [
    {
     "name": "stdout",
     "output_type": "stream",
     "text": [
      "Processing training data\n",
      "* Processed 200 images\n",
      "* Processed 400 images\n",
      "* Processed 600 images\n",
      "* Processed 800 images\n",
      "* Processed 1000 images\n",
      "Processing testing data\n",
      "* Processed 200 images\n",
      "* Processed 400 images\n",
      "* Processed 600 images\n",
      "* Processed 800 images\n",
      "* Processed 1000 images\n"
     ]
    },
    {
     "data": {
      "text/plain": [
       "((1000, 160, 160, 3), (1000, 160, 160, 3))"
      ]
     },
     "execution_count": 11,
     "metadata": {
      "tags": []
     },
     "output_type": "execute_result"
    }
   ],
   "source": [
    "# Upsample and resize image because it expects an image upto 224x224x3 (this might take a few minutes) \n",
    "print('Processing training data')\n",
    "resized_images = []\n",
    "for i in range(x_preprocess_train.shape[0]):\n",
    "    resized_images.append(zoom(x_preprocess_train[i], (5.0, 5.0, 1.0)))\n",
    "    if (i+1) % 200 == 0:\n",
    "        print('* Processed %d images' % (i+1))\n",
    "x_preprocess_train = np.stack(resized_images)\n",
    "\n",
    "print('Processing testing data')\n",
    "resized_images = []\n",
    "for i in range(x_preprocess_test.shape[0]):\n",
    "    resized_images.append(zoom(x_preprocess_test[i], (5.0, 5.0, 1.0)))\n",
    "    if (i+1) % 200 == 0:\n",
    "        print('* Processed %d images' % (i+1))\n",
    "x_preprocess_test = np.stack(resized_images)\n",
    "\n",
    "x_preprocess_train.shape, x_preprocess_test.shape"
   ]
  },
  {
   "cell_type": "code",
   "execution_count": 12,
   "metadata": {
    "ExecuteTime": {
     "end_time": "2019-01-03T20:21:58.987997Z",
     "start_time": "2019-01-03T20:21:58.459035Z"
    },
    "colab": {
     "base_uri": "https://localhost:8080/",
     "height": 340
    },
    "colab_type": "code",
    "executionInfo": {
     "elapsed": 116852,
     "status": "ok",
     "timestamp": 1572731126303,
     "user": {
      "displayName": "Brian",
      "photoUrl": "https://lh4.googleusercontent.com/-y5a64nLFbc4/AAAAAAAAAAI/AAAAAAAAAXs/4RRMVlUcGtY/s64/photo.jpg",
      "userId": "11680685692091329827"
     },
     "user_tz": 240
    },
    "id": "EOmIAMdYEXUK",
    "outputId": "1eeae1a0-98d2-486b-adfc-3e19bf0eea18"
   },
   "outputs": [
    {
     "name": "stderr",
     "output_type": "stream",
     "text": [
      "Clipping input data to the valid range for imshow with RGB data ([0..1] for floats or [0..255] for integers).\n"
     ]
    },
    {
     "data": {
      "image/png": "[encoded data removed]",
      "text/plain": [
       "<Figure size 360x360 with 1 Axes>"
      ]
     },
     "metadata": {
      "tags": []
     },
     "output_type": "display_data"
    }
   ],
   "source": [
    "# Plot a sample image (should be resized)\n",
    "plt.figure(figsize=(5, 5))\n",
    "plt.imshow((x_preprocess_train[0] + 1.0) * 127.5 / 255)\n",
    "plt.show()"
   ]
  },
  {
   "cell_type": "code",
   "execution_count": 13,
   "metadata": {
    "ExecuteTime": {
     "end_time": "2019-01-03T20:22:03.858313Z",
     "start_time": "2019-01-03T20:21:58.991956Z"
    },
    "colab": {
     "base_uri": "https://localhost:8080/",
     "height": 193
    },
    "colab_type": "code",
    "executionInfo": {
     "elapsed": 121801,
     "status": "ok",
     "timestamp": 1572731131261,
     "user": {
      "displayName": "Brian",
      "photoUrl": "https://lh4.googleusercontent.com/-y5a64nLFbc4/AAAAAAAAAAI/AAAAAAAAAXs/4RRMVlUcGtY/s64/photo.jpg",
      "userId": "11680685692091329827"
     },
     "user_tz": 240
    },
    "id": "DqTFO0NnEXUO",
    "outputId": "1fe95c66-8cf6-40d0-cbd9-7cdf4d61fd16"
   },
   "outputs": [
    {
     "name": "stdout",
     "output_type": "stream",
     "text": [
      "WARNING:tensorflow:From /usr/local/lib/python3.6/dist-packages/keras/backend/tensorflow_backend.py:2041: The name tf.nn.fused_batch_norm is deprecated. Please use tf.compat.v1.nn.fused_batch_norm instead.\n",
      "\n",
      "WARNING:tensorflow:From /usr/local/lib/python3.6/dist-packages/keras/backend/tensorflow_backend.py:148: The name tf.placeholder_with_default is deprecated. Please use tf.compat.v1.placeholder_with_default instead.\n",
      "\n"
     ]
    },
    {
     "name": "stderr",
     "output_type": "stream",
     "text": [
      "/usr/local/lib/python3.6/dist-packages/keras_applications/mobilenet.py:207: UserWarning: `input_shape` is undefined or non-square, or `rows` is not in [128, 160, 192, 224]. Weights for input shape (224, 224) will be loaded as the default.\n",
      "  warnings.warn('`input_shape` is undefined or non-square, '\n"
     ]
    },
    {
     "name": "stdout",
     "output_type": "stream",
     "text": [
      "Downloading data from https://github.com/fchollet/deep-learning-models/releases/download/v0.6/mobilenet_1_0_224_tf_no_top.h5\n",
      "17227776/17225924 [==============================] - 0s 0us/step\n"
     ]
    },
    {
     "data": {
      "text/plain": [
       "<keras.engine.training.Model at 0x7f00a01e4e48>"
      ]
     },
     "execution_count": 13,
     "metadata": {
      "tags": []
     },
     "output_type": "execute_result"
    }
   ],
   "source": [
    "mobilenet = MobileNet(weights='imagenet', include_top=False)\n",
    "mobilenet"
   ]
  },
  {
   "cell_type": "code",
   "execution_count": 14,
   "metadata": {
    "ExecuteTime": {
     "end_time": "2019-01-03T20:25:01.423791Z",
     "start_time": "2019-01-03T20:22:03.862353Z"
    },
    "colab": {
     "base_uri": "https://localhost:8080/",
     "height": 34
    },
    "colab_type": "code",
    "executionInfo": {
     "elapsed": 126055,
     "status": "ok",
     "timestamp": 1572731135524,
     "user": {
      "displayName": "Brian",
      "photoUrl": "https://lh4.googleusercontent.com/-y5a64nLFbc4/AAAAAAAAAAI/AAAAAAAAAXs/4RRMVlUcGtY/s64/photo.jpg",
      "userId": "11680685692091329827"
     },
     "user_tz": 240
    },
    "id": "-5xHNbjZEXUS",
    "outputId": "a582d26a-a47b-45f8-e168-bf063148585f"
   },
   "outputs": [
    {
     "data": {
      "text/plain": [
       "((1000, 5, 5, 1024), (1000, 5, 5, 1024))"
      ]
     },
     "execution_count": 14,
     "metadata": {
      "tags": []
     },
     "output_type": "execute_result"
    }
   ],
   "source": [
    "# Extract features using mobilenet (this may take a few minutes)\n",
    "x_preprocess_train = mobilenet.predict(x_preprocess_train)\n",
    "x_preprocess_test = mobilenet.predict(x_preprocess_test)\n",
    "x_preprocess_train.shape, x_preprocess_test.shape"
   ]
  },
  {
   "cell_type": "markdown",
   "metadata": {
    "colab_type": "text",
    "id": "jU3yOuBzEXUX"
   },
   "source": [
    "### Model\n",
    "\n",
    "Let's now build a simple feed-forward network using these features.\n",
    "\n",
    "MobileNet outputs a (5, 5, 1024) tensor before it's \"top layer\".  We aggregate this using a \"GlobalAveragePooling\" layer, which compresses it into a (1, 1, 1024) tensor, which is equivalent to 1024 vector.  It works by taking the average of each 5x5 feature map."
   ]
  },
  {
   "cell_type": "code",
   "execution_count": 15,
   "metadata": {
    "ExecuteTime": {
     "end_time": "2019-01-03T20:25:01.612296Z",
     "start_time": "2019-01-03T20:25:01.427918Z"
    },
    "colab": {
     "base_uri": "https://localhost:8080/",
     "height": 260
    },
    "colab_type": "code",
    "executionInfo": {
     "elapsed": 126125,
     "status": "ok",
     "timestamp": 1572731135603,
     "user": {
      "displayName": "Brian",
      "photoUrl": "https://lh4.googleusercontent.com/-y5a64nLFbc4/AAAAAAAAAAI/AAAAAAAAAXs/4RRMVlUcGtY/s64/photo.jpg",
      "userId": "11680685692091329827"
     },
     "user_tz": 240
    },
    "id": "MJc-j6Y6EXUZ",
    "outputId": "9607e8f3-0301-4729-b810-ab86b905bd9f"
   },
   "outputs": [
    {
     "name": "stdout",
     "output_type": "stream",
     "text": [
      "Model: \"sequential_2\"\n",
      "_________________________________________________________________\n",
      "Layer (type)                 Output Shape              Param #   \n",
      "=================================================================\n",
      "global_average_pooling2d_1 ( (None, 1024)              0         \n",
      "_________________________________________________________________\n",
      "dense_3 (Dense)              (None, 64)                65600     \n",
      "_________________________________________________________________\n",
      "dense_4 (Dense)              (None, 10)                650       \n",
      "=================================================================\n",
      "Total params: 66,250\n",
      "Trainable params: 66,250\n",
      "Non-trainable params: 0\n",
      "_________________________________________________________________\n"
     ]
    }
   ],
   "source": [
    "model2 = Sequential()\n",
    "model2.add(GlobalAveragePooling2D(input_shape=(5, 5, 1024)))\n",
    "model2.add(Dense(64, activation='relu'))\n",
    "model2.add(Dense(num_classes, activation='softmax'))\n",
    "model2.compile(loss='categorical_crossentropy',\n",
    "              optimizer=keras.optimizers.Adam(lr=0.001),\n",
    "              metrics=['accuracy'])\n",
    "model2.summary()"
   ]
  },
  {
   "cell_type": "code",
   "execution_count": 16,
   "metadata": {
    "ExecuteTime": {
     "end_time": "2019-01-03T20:25:05.473997Z",
     "start_time": "2019-01-03T20:25:01.627703Z"
    },
    "colab": {
     "base_uri": "https://localhost:8080/",
     "height": 34
    },
    "colab_type": "code",
    "executionInfo": {
     "elapsed": 128692,
     "status": "ok",
     "timestamp": 1572731138179,
     "user": {
      "displayName": "Brian",
      "photoUrl": "https://lh4.googleusercontent.com/-y5a64nLFbc4/AAAAAAAAAAI/AAAAAAAAAXs/4RRMVlUcGtY/s64/photo.jpg",
      "userId": "11680685692091329827"
     },
     "user_tz": 240
    },
    "id": "ORythsmFEXUe",
    "outputId": "0aa28010-6951-4f17-bc9a-403b8ab9f119"
   },
   "outputs": [
    {
     "data": {
      "text/plain": [
       "<keras.callbacks.History at 0x7f00a001aa90>"
      ]
     },
     "execution_count": 16,
     "metadata": {
      "tags": []
     },
     "output_type": "execute_result"
    }
   ],
   "source": [
    "model2.fit(x_preprocess_train, y_train,\n",
    "           batch_size=batch_size,\n",
    "           epochs=epochs,\n",
    "           verbose=0,\n",
    "           callbacks=[])"
   ]
  },
  {
   "cell_type": "code",
   "execution_count": 17,
   "metadata": {
    "ExecuteTime": {
     "end_time": "2019-01-03T20:25:05.819331Z",
     "start_time": "2019-01-03T20:25:05.476928Z"
    },
    "colab": {
     "base_uri": "https://localhost:8080/",
     "height": 86
    },
    "colab_type": "code",
    "executionInfo": {
     "elapsed": 129056,
     "status": "ok",
     "timestamp": 1572731138551,
     "user": {
      "displayName": "Brian",
      "photoUrl": "https://lh4.googleusercontent.com/-y5a64nLFbc4/AAAAAAAAAAI/AAAAAAAAAXs/4RRMVlUcGtY/s64/photo.jpg",
      "userId": "11680685692091329827"
     },
     "user_tz": 240
    },
    "id": "H496JbVzEXUi",
    "outputId": "fb5d92b1-7419-4ee2-bc95-16dce43b26d7"
   },
   "outputs": [
    {
     "name": "stdout",
     "output_type": "stream",
     "text": [
      "Train loss: 0.032209984675049784\n",
      "Train accuracy: 1.0\n",
      "Test loss: 0.5518739597797394\n",
      "Test accuracy: 0.824\n"
     ]
    }
   ],
   "source": [
    "train_score = model2.evaluate(x_preprocess_train, y_train, verbose=0)\n",
    "test_score = model2.evaluate(x_preprocess_test, y_test, verbose=0)\n",
    "\n",
    "print('Train loss:', train_score[0])\n",
    "print('Train accuracy:', train_score[1])\n",
    "print('Test loss:', test_score[0])\n",
    "print('Test accuracy:', test_score[1])"
   ]
  },
  {
   "cell_type": "markdown",
   "metadata": {
    "ExecuteTime": {
     "end_time": "2019-01-01T17:11:17.368601Z",
     "start_time": "2019-01-01T17:06:11.788Z"
    },
    "colab_type": "text",
    "id": "JzORi0SUEXUn"
   },
   "source": [
    "## Questions\n",
    "\n",
    "1. What happens if you don't use the `GlobalAveragePooling2D` layer?  Hypothesize why the performance changed?\n",
    "2. Why does the image need to be preprocessed via the `preprocess_input()` function?  Hypothesize what happens if we omit this step.\n",
    "3. Why do we need to resize the image (via `zoom`)?  Note: ImageNet images are 224x224x3, while CIFAR10 images are 32x32x3.  Think about how a \"car\" or \"horse\" differ in the two datasets."
   ]
  },
  {
   "cell_type": "markdown",
   "metadata": {
    "ExecuteTime": {
     "end_time": "2019-01-01T14:56:49.432083Z",
     "start_time": "2019-01-01T14:56:49.428157Z"
    },
    "colab_type": "text",
    "id": "gKTdIbgiEXUn"
   },
   "source": [
    "# Exercise 3: Using Frozen Layers in a Pre-trained Network\n",
    "\n",
    "Let's load a pre-trained MobileNet network with frozen layers instead of using pre-processed features."
   ]
  },
  {
   "cell_type": "code",
   "execution_count": null,
   "metadata": {
    "ExecuteTime": {
     "end_time": "2019-01-03T20:25:05.873178Z",
     "start_time": "2019-01-03T20:25:05.823041Z"
    },
    "colab": {},
    "colab_type": "code",
    "id": "YHryaT6fEXUp"
   },
   "outputs": [],
   "source": [
    "x_frozen_preprocess_train = preprocess_input(x_train.copy())\n",
    "x_frozen_preprocess_test = preprocess_input(x_test.copy())"
   ]
  },
  {
   "cell_type": "code",
   "execution_count": 19,
   "metadata": {
    "ExecuteTime": {
     "end_time": "2019-01-03T20:25:10.665481Z",
     "start_time": "2019-01-03T20:25:05.875747Z"
    },
    "colab": {
     "base_uri": "https://localhost:8080/",
     "height": 89
    },
    "colab_type": "code",
    "executionInfo": {
     "elapsed": 133589,
     "status": "ok",
     "timestamp": 1572731143098,
     "user": {
      "displayName": "Brian",
      "photoUrl": "https://lh4.googleusercontent.com/-y5a64nLFbc4/AAAAAAAAAAI/AAAAAAAAAXs/4RRMVlUcGtY/s64/photo.jpg",
      "userId": "11680685692091329827"
     },
     "user_tz": 240
    },
    "id": "MEow98wjEXUs",
    "outputId": "df17c9d2-7667-4ff5-833f-f81ec4b5451d"
   },
   "outputs": [
    {
     "name": "stderr",
     "output_type": "stream",
     "text": [
      "/usr/local/lib/python3.6/dist-packages/keras_applications/mobilenet.py:207: UserWarning: `input_shape` is undefined or non-square, or `rows` is not in [128, 160, 192, 224]. Weights for input shape (224, 224) will be loaded as the default.\n",
      "  warnings.warn('`input_shape` is undefined or non-square, '\n"
     ]
    },
    {
     "data": {
      "text/plain": [
       "<keras.engine.training.Model at 0x7f009f93bb38>"
      ]
     },
     "execution_count": 19,
     "metadata": {
      "tags": []
     },
     "output_type": "execute_result"
    }
   ],
   "source": [
    "mobilenet_base = MobileNet(weights='imagenet', include_top=False)\n",
    "mobilenet_base"
   ]
  },
  {
   "cell_type": "code",
   "execution_count": 20,
   "metadata": {
    "ExecuteTime": {
     "end_time": "2019-01-03T20:25:13.277697Z",
     "start_time": "2019-01-03T20:25:10.669191Z"
    },
    "colab": {
     "base_uri": "https://localhost:8080/",
     "height": 384
    },
    "colab_type": "code",
    "executionInfo": {
     "elapsed": 135775,
     "status": "ok",
     "timestamp": 1572731145292,
     "user": {
      "displayName": "Brian",
      "photoUrl": "https://lh4.googleusercontent.com/-y5a64nLFbc4/AAAAAAAAAAI/AAAAAAAAAXs/4RRMVlUcGtY/s64/photo.jpg",
      "userId": "11680685692091329827"
     },
     "user_tz": 240
    },
    "id": "00LsGAp5EXUy",
    "outputId": "7c45ecb2-07dd-410c-9297-15e5227bed75"
   },
   "outputs": [
    {
     "name": "stdout",
     "output_type": "stream",
     "text": [
      "WARNING:tensorflow:From /usr/local/lib/python3.6/dist-packages/keras/backend/tensorflow_backend.py:2239: The name tf.image.resize_nearest_neighbor is deprecated. Please use tf.compat.v1.image.resize_nearest_neighbor instead.\n",
      "\n",
      "Model: \"sequential_3\"\n",
      "_________________________________________________________________\n",
      "Layer (type)                 Output Shape              Param #   \n",
      "=================================================================\n",
      "up_sampling2d_1 (UpSampling2 (None, 160, 160, 3)       0         \n",
      "_________________________________________________________________\n",
      "mobilenet_1.00_224 (Model)   multiple                  3228864   \n",
      "_________________________________________________________________\n",
      "global_average_pooling2d_2 ( (None, 1024)              0         \n",
      "_________________________________________________________________\n",
      "dense_5 (Dense)              (None, 64)                65600     \n",
      "_________________________________________________________________\n",
      "dense_6 (Dense)              (None, 10)                650       \n",
      "=================================================================\n",
      "Total params: 3,295,114\n",
      "Trainable params: 66,250\n",
      "Non-trainable params: 3,228,864\n",
      "_________________________________________________________________\n"
     ]
    }
   ],
   "source": [
    "model3 = Sequential()\n",
    "\n",
    "model3.add(UpSampling2D(size=(5,5), input_shape=(32, 32, 3)))\n",
    "model3.add(mobilenet_base)\n",
    "model3.add(GlobalAveragePooling2D())\n",
    "model3.add(Dense(64, activation='relu'))\n",
    "model3.add(Dense(num_classes, activation='softmax'))\n",
    "\n",
    "# Freeze layers in the base model (i.e. only train the classifier)\n",
    "for layer in mobilenet_base.layers:\n",
    "    layer.trainable = False\n",
    "\n",
    "model3.compile(loss='categorical_crossentropy',\n",
    "               optimizer=keras.optimizers.Adam(lr=0.001),\n",
    "               metrics=['accuracy'])\n",
    "model3.summary()"
   ]
  },
  {
   "cell_type": "code",
   "execution_count": 21,
   "metadata": {
    "ExecuteTime": {
     "end_time": "2019-01-03T20:28:13.106743Z",
     "start_time": "2019-01-03T20:25:13.282206Z"
    },
    "colab": {
     "base_uri": "https://localhost:8080/",
     "height": 34
    },
    "colab_type": "code",
    "executionInfo": {
     "elapsed": 142945,
     "status": "ok",
     "timestamp": 1572731152470,
     "user": {
      "displayName": "Brian",
      "photoUrl": "https://lh4.googleusercontent.com/-y5a64nLFbc4/AAAAAAAAAAI/AAAAAAAAAXs/4RRMVlUcGtY/s64/photo.jpg",
      "userId": "11680685692091329827"
     },
     "user_tz": 240
    },
    "id": "Ha8IVyzxEXU1",
    "outputId": "25d78848-16ca-48b6-8bef-c977a234276b"
   },
   "outputs": [
    {
     "data": {
      "text/plain": [
       "<keras.callbacks.History at 0x7f009f10a4a8>"
      ]
     },
     "execution_count": 21,
     "metadata": {
      "tags": []
     },
     "output_type": "execute_result"
    }
   ],
   "source": [
    "# This may take a while (unless you're on a GPU) so we'll only do 3 epochs to speed things up.\n",
    "model3.fit(x_frozen_preprocess_train, y_train,\n",
    "           batch_size=batch_size,\n",
    "           epochs=3,\n",
    "           verbose=0,\n",
    "           callbacks=[])"
   ]
  },
  {
   "cell_type": "code",
   "execution_count": 22,
   "metadata": {
    "ExecuteTime": {
     "end_time": "2019-01-03T20:31:58.055523Z",
     "start_time": "2019-01-03T20:28:13.110343Z"
    },
    "colab": {
     "base_uri": "https://localhost:8080/",
     "height": 86
    },
    "colab_type": "code",
    "executionInfo": {
     "elapsed": 146612,
     "status": "ok",
     "timestamp": 1572731156146,
     "user": {
      "displayName": "Brian",
      "photoUrl": "https://lh4.googleusercontent.com/-y5a64nLFbc4/AAAAAAAAAAI/AAAAAAAAAXs/4RRMVlUcGtY/s64/photo.jpg",
      "userId": "11680685692091329827"
     },
     "user_tz": 240
    },
    "id": "5xJcw7OEEXU6",
    "outputId": "fefc753e-6b5a-4459-b8ae-3794496e6369"
   },
   "outputs": [
    {
     "name": "stdout",
     "output_type": "stream",
     "text": [
      "Train loss: 0.8182290410995483\n",
      "Train accuracy: 0.753\n",
      "Test loss: 1.1383354105949401\n",
      "Test accuracy: 0.592\n"
     ]
    }
   ],
   "source": [
    "train_score = model3.evaluate(x_frozen_preprocess_train, y_train, verbose=0)\n",
    "test_score = model3.evaluate(x_frozen_preprocess_test, y_test, verbose=0)\n",
    "\n",
    "print('Train loss:', train_score[0])\n",
    "print('Train accuracy:', train_score[1])\n",
    "print('Test loss:', test_score[0])\n",
    "print('Test accuracy:', test_score[1])"
   ]
  },
  {
   "cell_type": "markdown",
   "metadata": {
    "ExecuteTime": {
     "end_time": "2019-01-01T17:11:17.368601Z",
     "start_time": "2019-01-01T17:06:11.788Z"
    },
    "colab_type": "text",
    "id": "EOWgaq8PEXU9"
   },
   "source": [
    "## Questions\n",
    "\n",
    "1. Why does the network train so much more slowly?\n",
    "2. What is the difference (if any) between the model in Exercise 2 and Exercise 3?\n",
    "3. How would you modify the above code if we wanted to train some of the MobileNet layers?"
   ]
  }
 ],
 "metadata": {
  "accelerator": "GPU",
  "colab": {
   "collapsed_sections": [],
   "name": "Problem 2.ipynb",
   "provenance": []
  },
  "kernelspec": {
   "display_name": "Python 3",
   "language": "python",
   "name": "python3"
  },
  "language_info": {
   "codemirror_mode": {
    "name": "ipython",
    "version": 3
   },
   "file_extension": ".py",
   "mimetype": "text/x-python",
   "name": "python",
   "nbconvert_exporter": "python",
   "pygments_lexer": "ipython3",
   "version": "3.6.8"
  }
 },
 "nbformat": 4,
 "nbformat_minor": 2
}
